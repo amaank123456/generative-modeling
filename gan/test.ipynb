{
 "cells": [
  {
   "cell_type": "code",
   "execution_count": 3,
   "metadata": {},
   "outputs": [],
   "source": [
    "import torch"
   ]
  },
  {
   "cell_type": "code",
   "execution_count": 1,
   "metadata": {},
   "outputs": [],
   "source": [
    "import os"
   ]
  },
  {
   "cell_type": "code",
   "execution_count": 2,
   "metadata": {},
   "outputs": [
    {
     "data": {
      "text/plain": [
       "1"
      ]
     },
     "execution_count": 2,
     "metadata": {},
     "output_type": "execute_result"
    }
   ],
   "source": [
    "os.environ.get('PYTORCH_JIT', 1)"
   ]
  },
  {
   "cell_type": "code",
   "execution_count": 2,
   "metadata": {},
   "outputs": [
    {
     "name": "stdout",
     "output_type": "stream",
     "text": [
      "tensor([-1.0000, -0.7778, -0.5556, -0.3333, -0.1111,  0.1111,  0.3333,  0.5556,\n",
      "         0.7778,  1.0000])\n"
     ]
    }
   ],
   "source": [
    "vals = torch.linspace(-1, 1, steps=10)\n",
    "print(vals)"
   ]
  },
  {
   "cell_type": "code",
   "execution_count": 3,
   "metadata": {},
   "outputs": [
    {
     "name": "stderr",
     "output_type": "stream",
     "text": [
      "/home/ubuntu/anaconda3/envs/cmu16824hw2/lib/python3.8/site-packages/torch/functional.py:513: UserWarning: torch.meshgrid: in an upcoming release, it will be required to pass the indexing argument. (Triggered internally at ../aten/src/ATen/native/TensorShape.cpp:3609.)\n",
      "  return _VF.meshgrid(tensors, **kwargs)  # type: ignore[attr-defined]\n"
     ]
    },
    {
     "data": {
      "text/plain": [
       "torch.Size([100, 2])"
      ]
     },
     "execution_count": 3,
     "metadata": {},
     "output_type": "execute_result"
    }
   ],
   "source": [
    "x, y = torch.meshgrid(vals, vals)\n",
    "x, y = x.flatten(), y.flatten()\n",
    "comb = torch.vstack([x,y]).T\n",
    "comb.shape"
   ]
  },
  {
   "cell_type": "code",
   "execution_count": 4,
   "metadata": {},
   "outputs": [
    {
     "name": "stdout",
     "output_type": "stream",
     "text": [
      "tensor([[-1.0000, -1.0000],\n",
      "        [-1.0000, -0.7778],\n",
      "        [-1.0000, -0.5556],\n",
      "        [-1.0000, -0.3333],\n",
      "        [-1.0000, -0.1111],\n",
      "        [-1.0000,  0.1111],\n",
      "        [-1.0000,  0.3333],\n",
      "        [-1.0000,  0.5556],\n",
      "        [-1.0000,  0.7778],\n",
      "        [-1.0000,  1.0000],\n",
      "        [-0.7778, -1.0000],\n",
      "        [-0.7778, -0.7778],\n",
      "        [-0.7778, -0.5556],\n",
      "        [-0.7778, -0.3333],\n",
      "        [-0.7778, -0.1111],\n",
      "        [-0.7778,  0.1111],\n",
      "        [-0.7778,  0.3333],\n",
      "        [-0.7778,  0.5556],\n",
      "        [-0.7778,  0.7778],\n",
      "        [-0.7778,  1.0000],\n",
      "        [-0.5556, -1.0000],\n",
      "        [-0.5556, -0.7778],\n",
      "        [-0.5556, -0.5556],\n",
      "        [-0.5556, -0.3333],\n",
      "        [-0.5556, -0.1111],\n",
      "        [-0.5556,  0.1111],\n",
      "        [-0.5556,  0.3333],\n",
      "        [-0.5556,  0.5556],\n",
      "        [-0.5556,  0.7778],\n",
      "        [-0.5556,  1.0000],\n",
      "        [-0.3333, -1.0000],\n",
      "        [-0.3333, -0.7778],\n",
      "        [-0.3333, -0.5556],\n",
      "        [-0.3333, -0.3333],\n",
      "        [-0.3333, -0.1111],\n",
      "        [-0.3333,  0.1111],\n",
      "        [-0.3333,  0.3333],\n",
      "        [-0.3333,  0.5556],\n",
      "        [-0.3333,  0.7778],\n",
      "        [-0.3333,  1.0000],\n",
      "        [-0.1111, -1.0000],\n",
      "        [-0.1111, -0.7778],\n",
      "        [-0.1111, -0.5556],\n",
      "        [-0.1111, -0.3333],\n",
      "        [-0.1111, -0.1111],\n",
      "        [-0.1111,  0.1111],\n",
      "        [-0.1111,  0.3333],\n",
      "        [-0.1111,  0.5556],\n",
      "        [-0.1111,  0.7778],\n",
      "        [-0.1111,  1.0000],\n",
      "        [ 0.1111, -1.0000],\n",
      "        [ 0.1111, -0.7778],\n",
      "        [ 0.1111, -0.5556],\n",
      "        [ 0.1111, -0.3333],\n",
      "        [ 0.1111, -0.1111],\n",
      "        [ 0.1111,  0.1111],\n",
      "        [ 0.1111,  0.3333],\n",
      "        [ 0.1111,  0.5556],\n",
      "        [ 0.1111,  0.7778],\n",
      "        [ 0.1111,  1.0000],\n",
      "        [ 0.3333, -1.0000],\n",
      "        [ 0.3333, -0.7778],\n",
      "        [ 0.3333, -0.5556],\n",
      "        [ 0.3333, -0.3333],\n",
      "        [ 0.3333, -0.1111],\n",
      "        [ 0.3333,  0.1111],\n",
      "        [ 0.3333,  0.3333],\n",
      "        [ 0.3333,  0.5556],\n",
      "        [ 0.3333,  0.7778],\n",
      "        [ 0.3333,  1.0000],\n",
      "        [ 0.5556, -1.0000],\n",
      "        [ 0.5556, -0.7778],\n",
      "        [ 0.5556, -0.5556],\n",
      "        [ 0.5556, -0.3333],\n",
      "        [ 0.5556, -0.1111],\n",
      "        [ 0.5556,  0.1111],\n",
      "        [ 0.5556,  0.3333],\n",
      "        [ 0.5556,  0.5556],\n",
      "        [ 0.5556,  0.7778],\n",
      "        [ 0.5556,  1.0000],\n",
      "        [ 0.7778, -1.0000],\n",
      "        [ 0.7778, -0.7778],\n",
      "        [ 0.7778, -0.5556],\n",
      "        [ 0.7778, -0.3333],\n",
      "        [ 0.7778, -0.1111],\n",
      "        [ 0.7778,  0.1111],\n",
      "        [ 0.7778,  0.3333],\n",
      "        [ 0.7778,  0.5556],\n",
      "        [ 0.7778,  0.7778],\n",
      "        [ 0.7778,  1.0000],\n",
      "        [ 1.0000, -1.0000],\n",
      "        [ 1.0000, -0.7778],\n",
      "        [ 1.0000, -0.5556],\n",
      "        [ 1.0000, -0.3333],\n",
      "        [ 1.0000, -0.1111],\n",
      "        [ 1.0000,  0.1111],\n",
      "        [ 1.0000,  0.3333],\n",
      "        [ 1.0000,  0.5556],\n",
      "        [ 1.0000,  0.7778],\n",
      "        [ 1.0000,  1.0000]])\n"
     ]
    }
   ],
   "source": [
    "z = torch.zeros(100, 128)\n",
    "z[:,0], z[:,1] = x, y\n",
    "print(z[:,0:2])"
   ]
  }
 ],
 "metadata": {
  "kernelspec": {
   "display_name": "cmu16824hw2",
   "language": "python",
   "name": "python3"
  },
  "language_info": {
   "codemirror_mode": {
    "name": "ipython",
    "version": 3
   },
   "file_extension": ".py",
   "mimetype": "text/x-python",
   "name": "python",
   "nbconvert_exporter": "python",
   "pygments_lexer": "ipython3",
   "version": "3.8.20"
  }
 },
 "nbformat": 4,
 "nbformat_minor": 2
}
